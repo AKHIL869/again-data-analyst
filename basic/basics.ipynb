{
 "cells": [
  {
   "cell_type": "code",
   "execution_count": 9,
   "metadata": {},
   "outputs": [
    {
     "name": "stdout",
     "output_type": "stream",
     "text": [
      "<class 'int'>\n"
     ]
    }
   ],
   "source": [
    "name =\"john\"\n",
    "age =23\n",
    "print(type(age))"
   ]
  },
  {
   "cell_type": "code",
   "execution_count": 10,
   "metadata": {},
   "outputs": [
    {
     "name": "stdout",
     "output_type": "stream",
     "text": [
      "<class 'int'>\n",
      "<class 'float'>\n",
      "124.23\n",
      "<class 'float'>\n"
     ]
    }
   ],
   "source": [
    "a = 123\n",
    "b = 1.23\n",
    "print(type(a))\n",
    "print(type(b))\n",
    "c= a+b\n",
    "print(c)\n",
    "print(type(c))"
   ]
  },
  {
   "cell_type": "markdown",
   "metadata": {},
   "source": [
    "convert string into integer"
   ]
  },
  {
   "cell_type": "code",
   "execution_count": 11,
   "metadata": {},
   "outputs": [
    {
     "ename": "TypeError",
     "evalue": "can only concatenate str (not \"int\") to str",
     "output_type": "error",
     "traceback": [
      "\u001b[1;31m---------------------------------------------------------------------------\u001b[0m",
      "\u001b[1;31mTypeError\u001b[0m                                 Traceback (most recent call last)",
      "Cell \u001b[1;32mIn[11], line 3\u001b[0m\n\u001b[0;32m      1\u001b[0m a \u001b[38;5;241m=\u001b[39m\u001b[38;5;124m\"\u001b[39m\u001b[38;5;124m123.23\u001b[39m\u001b[38;5;124m\"\u001b[39m\n\u001b[0;32m      2\u001b[0m b \u001b[38;5;241m=\u001b[39m \u001b[38;5;241m23\u001b[39m\n\u001b[1;32m----> 3\u001b[0m c \u001b[38;5;241m=\u001b[39m\u001b[43ma\u001b[49m\u001b[38;5;241;43m+\u001b[39;49m\u001b[43mb\u001b[49m \n\u001b[0;32m      4\u001b[0m \u001b[38;5;28mprint\u001b[39m(c)\n",
      "\u001b[1;31mTypeError\u001b[0m: can only concatenate str (not \"int\") to str"
     ]
    }
   ],
   "source": [
    "a =\"123.23\"\n",
    "b = 23\n",
    "c =a+b \n",
    "print(c)"
   ]
  },
  {
   "cell_type": "markdown",
   "metadata": {},
   "source": [
    "so now we convert string first into integer then we perform the task"
   ]
  },
  {
   "cell_type": "code",
   "execution_count": null,
   "metadata": {},
   "outputs": [
    {
     "name": "stdout",
     "output_type": "stream",
     "text": [
      "<class 'int'>\n",
      "146\n"
     ]
    }
   ],
   "source": [
    "a =\"123\"\n",
    "b= 23\n",
    "a = int(a)\n",
    "print(type(a))\n",
    "c = a+b\n",
    "print(c)"
   ]
  },
  {
   "cell_type": "code",
   "execution_count": null,
   "metadata": {},
   "outputs": [
    {
     "name": "stdout",
     "output_type": "stream",
     "text": [
      "146.32999999999998\n"
     ]
    }
   ],
   "source": [
    "a =\"123.33\"\n",
    "b =23\n",
    "a =float(a)\n",
    "c=a+b\n",
    "print(c)\n"
   ]
  },
  {
   "cell_type": "markdown",
   "metadata": {},
   "source": [
    "problems solving\n"
   ]
  },
  {
   "cell_type": "markdown",
   "metadata": {},
   "source": [
    "write a program to display a person's name , age and address in three diffen-rent lines?"
   ]
  },
  {
   "cell_type": "code",
   "execution_count": null,
   "metadata": {},
   "outputs": [
    {
     "name": "stdout",
     "output_type": "stream",
     "text": [
      "akhil verma\n",
      " 23 \n",
      " surwari\n"
     ]
    }
   ],
   "source": [
    "\n",
    "\n",
    "\n",
    "print(\"akhil verma\\n 23 \\n surwari\")"
   ]
  },
  {
   "cell_type": "markdown",
   "metadata": {},
   "source": [
    "write a program to swap two variables"
   ]
  },
  {
   "cell_type": "code",
   "execution_count": null,
   "metadata": {},
   "outputs": [
    {
     "name": "stdout",
     "output_type": "stream",
     "text": [
      "12\n",
      "14\n",
      "12\n",
      "value of x is  14\n",
      "value of y is  12\n"
     ]
    }
   ],
   "source": [
    "#method1 \n",
    "x = 12\n",
    "y = 14\n",
    "temp = x\n",
    "print(temp)\n",
    "x = y\n",
    "print(x)\n",
    "y =temp\n",
    "print(y)\n",
    "print(\"value of x is \", x)\n",
    "print(\"value of y is \",y)"
   ]
  },
  {
   "cell_type": "code",
   "execution_count": null,
   "metadata": {},
   "outputs": [
    {
     "name": "stdout",
     "output_type": "stream",
     "text": [
      "14\n",
      "12\n"
     ]
    }
   ],
   "source": [
    "#method2\n",
    "a = 12\n",
    "b = 14\n",
    "a,b = b,a\n",
    "print(a)\n",
    "print(b)"
   ]
  },
  {
   "cell_type": "markdown",
   "metadata": {},
   "source": [
    "write a program to convert float into integer"
   ]
  },
  {
   "cell_type": "code",
   "execution_count": null,
   "metadata": {},
   "outputs": [
    {
     "name": "stdout",
     "output_type": "stream",
     "text": [
      "<class 'float'>\n",
      "25.23\n"
     ]
    }
   ],
   "source": [
    "a = 12.23\n",
    "b = 13\n",
    "print(type(a))\n",
    "a = float(a)\n",
    "c = a+b\n",
    "print(c)"
   ]
  },
  {
   "cell_type": "markdown",
   "metadata": {},
   "source": [
    "write a program to take a detials from student for id card and then print it in different lines"
   ]
  },
  {
   "cell_type": "code",
   "execution_count": null,
   "metadata": {},
   "outputs": [
    {
     "name": "stdout",
     "output_type": "stream",
     "text": [
      "name: akhil verma\n",
      "age: 23\n",
      "roll no.: 2001220310008\n"
     ]
    }
   ],
   "source": [
    "x = str(input(\"name\"))\n",
    "y = int(input(\"age\"))\n",
    "z = int(input(\"roll no.\"))\n",
    "print(\"name:\" ,x)\n",
    "print(\"age:\", y)\n",
    "print(\"roll no.:\" ,z)\n"
   ]
  },
  {
   "cell_type": "markdown",
   "metadata": {},
   "source": [
    "write a program to take an user input as integer then convert it to float?"
   ]
  },
  {
   "cell_type": "code",
   "execution_count": null,
   "metadata": {},
   "outputs": [
    {
     "name": "stdout",
     "output_type": "stream",
     "text": [
      "2.0\n"
     ]
    }
   ],
   "source": [
    "a = int(input(\"give a input as integer\"))\n",
    "a = float(a)\n",
    "print(a)"
   ]
  },
  {
   "cell_type": "markdown",
   "metadata": {},
   "source": [
    "power"
   ]
  },
  {
   "cell_type": "code",
   "execution_count": null,
   "metadata": {},
   "outputs": [
    {
     "name": "stdout",
     "output_type": "stream",
     "text": [
      "16\n"
     ]
    }
   ],
   "source": [
    "print(4**2)"
   ]
  },
  {
   "cell_type": "markdown",
   "metadata": {},
   "source": [
    "modulas"
   ]
  },
  {
   "cell_type": "code",
   "execution_count": null,
   "metadata": {},
   "outputs": [
    {
     "name": "stdout",
     "output_type": "stream",
     "text": [
      "2\n"
     ]
    }
   ],
   "source": [
    "print(8%3)"
   ]
  },
  {
   "cell_type": "markdown",
   "metadata": {},
   "source": [
    "float division"
   ]
  },
  {
   "cell_type": "code",
   "execution_count": null,
   "metadata": {},
   "outputs": [
    {
     "name": "stdout",
     "output_type": "stream",
     "text": [
      "2\n"
     ]
    }
   ],
   "source": [
    "print(8//3)"
   ]
  },
  {
   "cell_type": "markdown",
   "metadata": {},
   "source": [
    "comparision"
   ]
  },
  {
   "cell_type": "code",
   "execution_count": null,
   "metadata": {},
   "outputs": [
    {
     "name": "stdout",
     "output_type": "stream",
     "text": [
      "False\n",
      "False\n",
      "False\n",
      "False\n"
     ]
    }
   ],
   "source": [
    "print(3>6)\n",
    "print(3==6)\n",
    "print(3!=3)\n",
    "print(3>=4)"
   ]
  },
  {
   "cell_type": "markdown",
   "metadata": {},
   "source": [
    "logical operators\n",
    "and : if both true then it is true\n",
    "or : if anyone true then it is true\n",
    "not : truw if operand is false"
   ]
  },
  {
   "cell_type": "code",
   "execution_count": null,
   "metadata": {},
   "outputs": [
    {
     "name": "stdout",
     "output_type": "stream",
     "text": [
      "False\n",
      "True\n",
      "True\n"
     ]
    }
   ],
   "source": [
    "a = 3 \n",
    "b = 2 \n",
    "c = 7\n",
    "print(a>b and b>c)\n",
    "print(a>b or b>c)\n",
    "print(not(a>b and b>c))"
   ]
  },
  {
   "cell_type": "markdown",
   "metadata": {},
   "source": [
    "integer operators"
   ]
  },
  {
   "cell_type": "code",
   "execution_count": null,
   "metadata": {},
   "outputs": [
    {
     "name": "stdout",
     "output_type": "stream",
     "text": [
      "False\n",
      "True\n"
     ]
    }
   ],
   "source": [
    "a = 1234\n",
    "b =\"1234\"\n",
    "print(a is b)\n",
    "print(a is not b)"
   ]
  },
  {
   "cell_type": "markdown",
   "metadata": {},
   "source": [
    "bitwise"
   ]
  },
  {
   "cell_type": "code",
   "execution_count": null,
   "metadata": {},
   "outputs": [
    {
     "name": "stdout",
     "output_type": "stream",
     "text": [
      "0b1010\n"
     ]
    }
   ],
   "source": [
    "print(bin(10))"
   ]
  },
  {
   "cell_type": "code",
   "execution_count": null,
   "metadata": {},
   "outputs": [
    {
     "name": "stdout",
     "output_type": "stream",
     "text": [
      "8\n"
     ]
    }
   ],
   "source": [
    "a = 10\n",
    "b = 8\n",
    "print(a & b )\n",
    "#  a and b"
   ]
  },
  {
   "cell_type": "code",
   "execution_count": null,
   "metadata": {},
   "outputs": [
    {
     "name": "stdout",
     "output_type": "stream",
     "text": [
      "10\n",
      "2\n"
     ]
    }
   ],
   "source": [
    "a = 10\n",
    "b = 8\n",
    "print(a | b)\n",
    "# a or b\n",
    "print(a ^ b)\n",
    "#a xor b"
   ]
  },
  {
   "cell_type": "code",
   "execution_count": null,
   "metadata": {},
   "outputs": [
    {
     "name": "stdout",
     "output_type": "stream",
     "text": [
      "5\n",
      "40\n"
     ]
    }
   ],
   "source": [
    "print(10>>1)\n",
    "# zero fill left shift \n",
    "print(10<<2)\n",
    "# zero fill right side"
   ]
  },
  {
   "cell_type": "markdown",
   "metadata": {},
   "source": [
    "memebership operator"
   ]
  },
  {
   "cell_type": "code",
   "execution_count": null,
   "metadata": {},
   "outputs": [
    {
     "name": "stdout",
     "output_type": "stream",
     "text": [
      "False\n",
      "True\n",
      "False\n"
     ]
    }
   ],
   "source": [
    "a = \"hello\"\n",
    "print(\"p\" in a)\n",
    "print(\"e\" in a)\n",
    "print(\"o\" not in a)"
   ]
  },
  {
   "cell_type": "markdown",
   "metadata": {},
   "source": [
    "conditional statement"
   ]
  },
  {
   "cell_type": "code",
   "execution_count": null,
   "metadata": {},
   "outputs": [
    {
     "name": "stdout",
     "output_type": "stream",
     "text": [
      "sorry!\n"
     ]
    }
   ],
   "source": [
    "# if  the statement\n",
    "marks =int(input(\"enter your marks for eligibility\"))\n",
    "if marks>=90:\n",
    "    print('Congratulations ! you are eligible for mobile phone.')\n",
    "#if marks<=90:\n",
    "else:\n",
    "    print('sorry!')"
   ]
  },
  {
   "cell_type": "code",
   "execution_count": null,
   "metadata": {},
   "outputs": [
    {
     "name": "stdout",
     "output_type": "stream",
     "text": [
      "you are going to punish\n"
     ]
    }
   ],
   "source": [
    "# if -elif -else statement\n",
    "marks=int(input(\"enter your makrs please\"))\n",
    "if marks >=90:\n",
    "       print(\"you go to a trip\")\n",
    "elif marks >=80 and marks<90:\n",
    "       print(\"you get a mobile phone\")\n",
    "elif marks>=70 and marks<80:\n",
    "       print(\"you will get a new pen\")\n",
    "else:\n",
    "       print(\"you are going to punish\")\n",
    "\n"
   ]
  },
  {
   "cell_type": "markdown",
   "metadata": {},
   "source": [
    "nested if statement"
   ]
  },
  {
   "cell_type": "code",
   "execution_count": null,
   "metadata": {},
   "outputs": [
    {
     "name": "stdout",
     "output_type": "stream",
     "text": [
      "you get laptop\n",
      "you will get laptop along mobile\n"
     ]
    }
   ],
   "source": [
    "marks =int(input(\"enter your marks1\"))\n",
    "marks =int(input(\"enter your marks2\"))\n",
    "if marks>=90:\n",
    "    print(\"you get laptop\")\n",
    "    if marks>=95:\n",
    "        print(\"you will get laptop along mobile\")\n",
    "else:\n",
    "    print(\"you will get punsihment\")        "
   ]
  },
  {
   "cell_type": "markdown",
   "metadata": {},
   "source": [
    "short hand if statement"
   ]
  },
  {
   "cell_type": "code",
   "execution_count": null,
   "metadata": {},
   "outputs": [
    {
     "name": "stdout",
     "output_type": "stream",
     "text": [
      "you get punished\n"
     ]
    }
   ],
   "source": [
    "marks=int(input(\"type a number\"))\n",
    "\n",
    "print(\"you get a new phone\") if marks>=90 else print(\"you get punished\")"
   ]
  },
  {
   "cell_type": "markdown",
   "metadata": {},
   "source": [
    "problem solvings"
   ]
  },
  {
   "cell_type": "markdown",
   "metadata": {},
   "source": [
    "1 - write a progra to chech if a number is positive"
   ]
  },
  {
   "cell_type": "code",
   "execution_count": null,
   "metadata": {},
   "outputs": [
    {
     "name": "stdout",
     "output_type": "stream",
     "text": [
      "number is positive\n"
     ]
    }
   ],
   "source": [
    "num=int(input(\"enter a number\"))\n",
    "if num >0:\n",
    "    print(\"number is positive\")\n",
    "else:\n",
    "    print(\"number is negative\")"
   ]
  },
  {
   "cell_type": "markdown",
   "metadata": {},
   "source": [
    "2 - write a program to chech whether a number is odd or even"
   ]
  },
  {
   "cell_type": "code",
   "execution_count": null,
   "metadata": {},
   "outputs": [
    {
     "name": "stdout",
     "output_type": "stream",
     "text": [
      "number is even\n"
     ]
    }
   ],
   "source": [
    "num =int(input(\"enter a number \"))\n",
    "if num%2==0:\n",
    "        print(\"number is even\")\n",
    "else:\n",
    "    print(\"number is odd\")"
   ]
  },
  {
   "cell_type": "markdown",
   "metadata": {},
   "source": [
    "3 - write a program to create a area calculator"
   ]
  },
  {
   "cell_type": "code",
   "execution_count": null,
   "metadata": {},
   "outputs": [
    {
     "name": "stdout",
     "output_type": "stream",
     "text": [
      "******AREA CALCULATOR******\n",
      "press 1 to get the area of square\n",
      "press 2 to get the area of rectangle\n",
      "press 3 to get area of circle\n",
      "press 4 to get area of triangle\n",
      "The area of rectangle is 20.0\n"
     ]
    }
   ],
   "source": [
    "\n",
    "print(\"******AREA CALCULATOR******\")\n",
    "print(\"\"\"press 1 to get the area of square\n",
    "press 2 to get the area of rectangle\n",
    "press 3 to get area of circle\n",
    "press 4 to get area of triangle\"\"\")\n",
    "\n",
    "choice = int(input(\"Enter your choice (1/2/3/4): \"))  # Taking user input for choice\n",
    "\n",
    "if choice == 1:\n",
    "    side = float(input(\"Enter the length of one side: \"))\n",
    "    area = side**2\n",
    "    print(\"The area of square is\", area)\n",
    "elif choice == 2:\n",
    "    length = float(input(\"Enter the length of rectangle: \"))\n",
    "    width = float(input(\"Enter the width of the rectangle: \"))\n",
    "    area = length * width\n",
    "    print(\"The area of rectangle is\", area)\n",
    "elif choice == 3:\n",
    "    radius = float(input(\"Enter the radius of circle: \"))\n",
    "    area = 3.14 * (radius ** 2)  # Using 3.14 for pi approximation\n",
    "    print(\"The area of the circle is\", area)\n",
    "elif choice == 4:\n",
    "    base = float(input(\"Enter the base of the triangle: \"))\n",
    "    height = float(input(\"Enter the height of the triangle: \"))\n",
    "    area = 0.5 * base * height\n",
    "    print(\"The area of the triangle is\", area)\n",
    "else:\n",
    "    print(\"Invalid input\")"
   ]
  },
  {
   "cell_type": "markdown",
   "metadata": {},
   "source": [
    "4 - write a program check whether the passed letter is a vowel or not?"
   ]
  },
  {
   "cell_type": "code",
   "execution_count": 12,
   "metadata": {},
   "outputs": [
    {
     "name": "stdout",
     "output_type": "stream",
     "text": [
      "it's a not vowel\n"
     ]
    }
   ],
   "source": [
    "letter = str(input(\"type a letter\"))\n",
    "if (letter in \"aeiou\") or (letter in \"AEIOU\"):\n",
    "    print(\"it's a vowel\")\n",
    "    \n",
    "else:\n",
    "    print(\"it's a not vowel\")\n"
   ]
  },
  {
   "cell_type": "markdown",
   "metadata": {},
   "source": [
    "5 - Write a program to check if a number is a single digit number , #2-digit number and so on ...... , up to 5 digits?"
   ]
  },
  {
   "cell_type": "code",
   "execution_count": null,
   "metadata": {},
   "outputs": [
    {
     "name": "stdout",
     "output_type": "stream",
     "text": [
      "invalid number\n"
     ]
    }
   ],
   "source": [
    "num =int(input(\"enter a number upto 5 digit\"))\n",
    "if 9>=num>=0:\n",
    "    print(\"it's a single digit number\")\n",
    "elif 99>=num>=10:\n",
    "        print(\"it's a two digit number\")\n",
    "elif 999>=num>=100:\n",
    "         print(\"it's a three digit number\")\n",
    "elif 9999>=num>=1000:\n",
    "           print(\"it's a four digit number\")\n",
    "elif 99999>=num>=10000:\n",
    "              print(\"it's a five digit number\")\n",
    "else:\n",
    "   print(\"invalid number\")              "
   ]
  }
 ],
 "metadata": {
  "kernelspec": {
   "display_name": "base",
   "language": "python",
   "name": "python3"
  },
  "language_info": {
   "codemirror_mode": {
    "name": "ipython",
    "version": 3
   },
   "file_extension": ".py",
   "mimetype": "text/x-python",
   "name": "python",
   "nbconvert_exporter": "python",
   "pygments_lexer": "ipython3",
   "version": "3.10.10"
  }
 },
 "nbformat": 4,
 "nbformat_minor": 2
}
