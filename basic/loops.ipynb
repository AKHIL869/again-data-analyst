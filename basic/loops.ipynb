{
 "cells": [
  {
   "cell_type": "markdown",
   "metadata": {},
   "source": [
    "for loop"
   ]
  },
  {
   "cell_type": "code",
   "execution_count": 1,
   "metadata": {},
   "outputs": [
    {
     "name": "stdout",
     "output_type": "stream",
     "text": [
      "1\n",
      "2\n",
      "3\n",
      "4\n",
      "5\n"
     ]
    }
   ],
   "source": [
    "for i in range (1,6):\n",
    "    print(i)"
   ]
  },
  {
   "cell_type": "code",
   "execution_count": 2,
   "metadata": {},
   "outputs": [
    {
     "name": "stdout",
     "output_type": "stream",
     "text": [
      "akhil is a good boy\n",
      "akhil is a good boy\n",
      "akhil is a good boy\n",
      "akhil is a good boy\n",
      "akhil is a good boy\n"
     ]
    }
   ],
   "source": [
    "for i in range(1,6):\n",
    "    print(\"akhil is a good boy\")"
   ]
  },
  {
   "cell_type": "markdown",
   "metadata": {},
   "source": [
    "so here i is a container which contains value of 1 to 6 and we can using print that in loop"
   ]
  },
  {
   "cell_type": "code",
   "execution_count": 3,
   "metadata": {},
   "outputs": [
    {
     "name": "stdout",
     "output_type": "stream",
     "text": [
      "2\n",
      "4\n",
      "6\n"
     ]
    }
   ],
   "source": [
    "for i in  range (2,8,2):\n",
    "    print(i)"
   ]
  },
  {
   "cell_type": "markdown",
   "metadata": {},
   "source": [
    "write a table of 7 and write whole procedure"
   ]
  },
  {
   "cell_type": "code",
   "execution_count": 7,
   "metadata": {},
   "outputs": [
    {
     "name": "stdout",
     "output_type": "stream",
     "text": [
      "4 x 1 = 4\n",
      "4 x 3 = 12\n",
      "4 x 5 = 20\n",
      "4 x 7 = 28\n",
      "4 x 9 = 36\n",
      "4 x 11 = 44\n",
      "4 x 13 = 52\n",
      "4 x 15 = 60\n",
      "4 x 17 = 68\n",
      "4 x 19 = 76\n",
      "4 x 21 = 84\n",
      "4 x 23 = 92\n",
      "4 x 25 = 100\n",
      "4 x 27 = 108\n",
      "4 x 29 = 116\n",
      "4 x 31 = 124\n",
      "4 x 33 = 132\n",
      "4 x 35 = 140\n",
      "4 x 37 = 148\n",
      "4 x 39 = 156\n",
      "4 x 41 = 164\n",
      "4 x 43 = 172\n",
      "4 x 45 = 180\n",
      "4 x 47 = 188\n",
      "4 x 49 = 196\n"
     ]
    }
   ],
   "source": [
    "n = int(input(\"enter a number what you want see a table\"))\n",
    "for i in range(1,51,2):\n",
    "    print(n,\"x\",i,\"=\",n*i)"
   ]
  },
  {
   "cell_type": "markdown",
   "metadata": {},
   "source": [
    "while loop"
   ]
  },
  {
   "cell_type": "code",
   "execution_count": 9,
   "metadata": {},
   "outputs": [
    {
     "name": "stdout",
     "output_type": "stream",
     "text": [
      "0\n",
      "1\n",
      "2\n",
      "3\n",
      "4\n",
      "5\n"
     ]
    }
   ],
   "source": [
    "n=0\n",
    "while n<=5:\n",
    "    print(n)\n",
    "    n+=1 #or n=+1"
   ]
  },
  {
   "cell_type": "code",
   "execution_count": 12,
   "metadata": {},
   "outputs": [
    {
     "name": "stdout",
     "output_type": "stream",
     "text": [
      "7 x 1 = 7\n",
      "7 x 2 = 14\n",
      "7 x 3 = 21\n",
      "7 x 4 = 28\n",
      "7 x 5 = 35\n",
      "7 x 6 = 42\n",
      "7 x 7 = 49\n",
      "7 x 8 = 56\n",
      "7 x 9 = 63\n",
      "7 x 10 = 70\n"
     ]
    }
   ],
   "source": [
    "n=1\n",
    "a=7\n",
    "while n<=10:\n",
    "    print(a,\"x\",n,\"=\",n*a )\n",
    "    n+=1"
   ]
  },
  {
   "cell_type": "markdown",
   "metadata": {},
   "source": [
    "while true"
   ]
  },
  {
   "cell_type": "code",
   "execution_count": 2,
   "metadata": {},
   "outputs": [
    {
     "name": "stdout",
     "output_type": "stream",
     "text": [
      "9\n"
     ]
    }
   ],
   "source": [
    "while True:\n",
    "    num1=int(input('enter a number'))\n",
    "    num2=int(input(\"enter a number\"))\n",
    "    print(num1+num2)\n",
    "    repeat=input('do you want to stop it')\n",
    "    if repeat==\"yes\":\n",
    "        break\n"
   ]
  },
  {
   "cell_type": "code",
   "execution_count": 3,
   "metadata": {},
   "outputs": [
    {
     "name": "stdout",
     "output_type": "stream",
     "text": [
      "5\n",
      "7\n"
     ]
    }
   ],
   "source": [
    "while True:\n",
    "    num1=int(input(\"enter a number\"))\n",
    "    num2=int(input(\"enter a number\"))\n",
    "    print(num1+num2)\n",
    "    repeat=input(\"do you want to stop it\")\n",
    "    if repeat==\"yes\":\n",
    "        break\n"
   ]
  },
  {
   "cell_type": "markdown",
   "metadata": {},
   "source": [
    "nested loop"
   ]
  },
  {
   "cell_type": "code",
   "execution_count": 7,
   "metadata": {},
   "outputs": [
    {
     "name": "stdout",
     "output_type": "stream",
     "text": [
      "12345678910\n",
      "12345678910\n",
      "12345678910\n"
     ]
    }
   ],
   "source": [
    "for i in range(1,4):\n",
    "    for j in range(1,11):\n",
    "        print(j, end =\"\")\n",
    "    print()"
   ]
  }
 ],
 "metadata": {
  "kernelspec": {
   "display_name": "base",
   "language": "python",
   "name": "python3"
  },
  "language_info": {
   "codemirror_mode": {
    "name": "ipython",
    "version": 3
   },
   "file_extension": ".py",
   "mimetype": "text/x-python",
   "name": "python",
   "nbconvert_exporter": "python",
   "pygments_lexer": "ipython3",
   "version": "3.10.10"
  }
 },
 "nbformat": 4,
 "nbformat_minor": 2
}
