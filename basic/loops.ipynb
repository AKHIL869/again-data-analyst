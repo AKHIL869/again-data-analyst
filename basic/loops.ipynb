{
 "cells": [
  {
   "cell_type": "markdown",
   "metadata": {},
   "source": [
    "for loop"
   ]
  },
  {
   "cell_type": "code",
   "execution_count": 1,
   "metadata": {},
   "outputs": [
    {
     "name": "stdout",
     "output_type": "stream",
     "text": [
      "1\n",
      "2\n",
      "3\n",
      "4\n",
      "5\n"
     ]
    }
   ],
   "source": [
    "for i in range (1,6):\n",
    "    print(i)"
   ]
  },
  {
   "cell_type": "code",
   "execution_count": 2,
   "metadata": {},
   "outputs": [
    {
     "name": "stdout",
     "output_type": "stream",
     "text": [
      "akhil is a good boy\n",
      "akhil is a good boy\n",
      "akhil is a good boy\n",
      "akhil is a good boy\n",
      "akhil is a good boy\n"
     ]
    }
   ],
   "source": [
    "for i in range(1,6):\n",
    "    print(\"akhil is a good boy\")"
   ]
  },
  {
   "cell_type": "markdown",
   "metadata": {},
   "source": [
    "so here i is a container which contains value of 1 to 6 and we can using print that in loop"
   ]
  },
  {
   "cell_type": "code",
   "execution_count": 3,
   "metadata": {},
   "outputs": [
    {
     "name": "stdout",
     "output_type": "stream",
     "text": [
      "2\n",
      "4\n",
      "6\n"
     ]
    }
   ],
   "source": [
    "for i in  range (2,8,2):\n",
    "    print(i)"
   ]
  },
  {
   "cell_type": "markdown",
   "metadata": {},
   "source": [
    "write a table of 7 and write whole procedure"
   ]
  },
  {
   "cell_type": "code",
   "execution_count": 7,
   "metadata": {},
   "outputs": [
    {
     "name": "stdout",
     "output_type": "stream",
     "text": [
      "4 x 1 = 4\n",
      "4 x 3 = 12\n",
      "4 x 5 = 20\n",
      "4 x 7 = 28\n",
      "4 x 9 = 36\n",
      "4 x 11 = 44\n",
      "4 x 13 = 52\n",
      "4 x 15 = 60\n",
      "4 x 17 = 68\n",
      "4 x 19 = 76\n",
      "4 x 21 = 84\n",
      "4 x 23 = 92\n",
      "4 x 25 = 100\n",
      "4 x 27 = 108\n",
      "4 x 29 = 116\n",
      "4 x 31 = 124\n",
      "4 x 33 = 132\n",
      "4 x 35 = 140\n",
      "4 x 37 = 148\n",
      "4 x 39 = 156\n",
      "4 x 41 = 164\n",
      "4 x 43 = 172\n",
      "4 x 45 = 180\n",
      "4 x 47 = 188\n",
      "4 x 49 = 196\n"
     ]
    }
   ],
   "source": [
    "n = int(input(\"enter a number what you want see a table\"))\n",
    "for i in range(1,51,2):\n",
    "    print(n,\"x\",i,\"=\",n*i)"
   ]
  },
  {
   "cell_type": "markdown",
   "metadata": {},
   "source": [
    "while loop"
   ]
  },
  {
   "cell_type": "code",
   "execution_count": 9,
   "metadata": {},
   "outputs": [
    {
     "name": "stdout",
     "output_type": "stream",
     "text": [
      "0\n",
      "1\n",
      "2\n",
      "3\n",
      "4\n",
      "5\n"
     ]
    }
   ],
   "source": [
    "n=0\n",
    "while n<=5:\n",
    "    print(n)\n",
    "    n+=1 #or n=+1"
   ]
  },
  {
   "cell_type": "code",
   "execution_count": 12,
   "metadata": {},
   "outputs": [
    {
     "name": "stdout",
     "output_type": "stream",
     "text": [
      "7 x 1 = 7\n",
      "7 x 2 = 14\n",
      "7 x 3 = 21\n",
      "7 x 4 = 28\n",
      "7 x 5 = 35\n",
      "7 x 6 = 42\n",
      "7 x 7 = 49\n",
      "7 x 8 = 56\n",
      "7 x 9 = 63\n",
      "7 x 10 = 70\n"
     ]
    }
   ],
   "source": [
    "n=1\n",
    "a=7\n",
    "while n<=10:\n",
    "    print(a,\"x\",n,\"=\",n*a )\n",
    "    n+=1"
   ]
  },
  {
   "cell_type": "markdown",
   "metadata": {},
   "source": [
    "while true"
   ]
  },
  {
   "cell_type": "code",
   "execution_count": 2,
   "metadata": {},
   "outputs": [
    {
     "name": "stdout",
     "output_type": "stream",
     "text": [
      "9\n"
     ]
    }
   ],
   "source": [
    "while True:\n",
    "    num1=int(input('enter a number'))\n",
    "    num2=int(input(\"enter a number\"))\n",
    "    print(num1+num2)\n",
    "    repeat=input('do you want to stop it')\n",
    "    if repeat==\"yes\":\n",
    "        break\n"
   ]
  },
  {
   "cell_type": "code",
   "execution_count": 3,
   "metadata": {},
   "outputs": [
    {
     "name": "stdout",
     "output_type": "stream",
     "text": [
      "5\n",
      "7\n"
     ]
    }
   ],
   "source": [
    "while True:\n",
    "    num1=int(input(\"enter a number\"))\n",
    "    num2=int(input(\"enter a number\"))\n",
    "    print(num1+num2)\n",
    "    repeat=input(\"do you want to stop it\")\n",
    "    if repeat==\"yes\":\n",
    "        break\n"
   ]
  },
  {
   "cell_type": "markdown",
   "metadata": {},
   "source": [
    "nested loop"
   ]
  },
  {
   "cell_type": "code",
   "execution_count": 7,
   "metadata": {},
   "outputs": [
    {
     "name": "stdout",
     "output_type": "stream",
     "text": [
      "12345678910\n",
      "12345678910\n",
      "12345678910\n"
     ]
    }
   ],
   "source": [
    "for i in range(1,4):\n",
    "    for j in range(1,11):\n",
    "        print(j, end =\"\")\n",
    "    print()"
   ]
  },
  {
   "cell_type": "code",
   "execution_count": 12,
   "metadata": {},
   "outputs": [
    {
     "name": "stdout",
     "output_type": "stream",
     "text": [
      "1\n",
      "12\n",
      "123\n",
      "1234\n",
      "12345\n"
     ]
    }
   ],
   "source": [
    "for i in range(1,6):\n",
    "    for j in range(1,i+1):\n",
    "        print(j ,end=\"\")\n",
    "    print()"
   ]
  },
  {
   "cell_type": "markdown",
   "metadata": {},
   "source": [
    "for loop with conditional statement"
   ]
  },
  {
   "cell_type": "code",
   "execution_count": 13,
   "metadata": {},
   "outputs": [
    {
     "name": "stdout",
     "output_type": "stream",
     "text": [
      "1\n",
      "2\n",
      "my favourite song\n",
      "4\n",
      "5\n",
      "6\n",
      "7\n",
      "8\n",
      "9\n",
      "10\n"
     ]
    }
   ],
   "source": [
    "for i in range(1,11):\n",
    "    if i==3:\n",
    "        print(\"my favourite song\")\n",
    "    else:\n",
    "        print(i)"
   ]
  },
  {
   "cell_type": "code",
   "execution_count": 14,
   "metadata": {},
   "outputs": [
    {
     "name": "stdout",
     "output_type": "stream",
     "text": [
      "24\n",
      "48\n",
      "72\n",
      "96\n"
     ]
    }
   ],
   "source": [
    "for i in range(1,101):\n",
    "    if i%8==0 and i%12==0:\n",
    "        print(i)"
   ]
  },
  {
   "cell_type": "code",
   "execution_count": 15,
   "metadata": {},
   "outputs": [
    {
     "name": "stdout",
     "output_type": "stream",
     "text": [
      "1\n",
      "2\n",
      "this is my favourite song\n",
      "4\n",
      "5\n",
      "6\n",
      "7\n",
      "8\n",
      "9\n",
      "10\n"
     ]
    }
   ],
   "source": [
    "n = 1\n",
    "while n<=10:\n",
    "    if n==3:\n",
    "        print(\"this is my favourite song\")\n",
    "    else:\n",
    "        print(n)\n",
    "    n+=1\n"
   ]
  },
  {
   "cell_type": "markdown",
   "metadata": {},
   "source": [
    "# continue statement:  \n",
    "continue statement is used when you want to skip a particular condition.  \n",
    "# break statement:  \n",
    "break statement is used when you want to destroy a loop at a certain condtion and come out of the loop.  \n",
    "\n"
   ]
  },
  {
   "cell_type": "code",
   "execution_count": 1,
   "metadata": {},
   "outputs": [
    {
     "name": "stdout",
     "output_type": "stream",
     "text": [
      "1\n",
      "2\n",
      "3\n",
      "4\n",
      "6\n",
      "7\n",
      "8\n",
      "9\n",
      "10\n"
     ]
    }
   ],
   "source": [
    "for i in range (1,11):\n",
    "    if i ==5:\n",
    "        continue\n",
    "    else:\n",
    "        print(i)"
   ]
  },
  {
   "cell_type": "code",
   "execution_count": 3,
   "metadata": {},
   "outputs": [
    {
     "name": "stdout",
     "output_type": "stream",
     "text": [
      "1\n",
      "2\n",
      "3\n",
      "4\n",
      "5\n",
      "6\n",
      "thank you\n"
     ]
    }
   ],
   "source": [
    "for i in range (1,11):\n",
    "    if i ==7:\n",
    "        break\n",
    "    else:\n",
    "        print(i)\n",
    "print(\"thank you\")      "
   ]
  },
  {
   "cell_type": "markdown",
   "metadata": {},
   "source": [
    "# problem solving:"
   ]
  },
  {
   "cell_type": "markdown",
   "metadata": {},
   "source": [
    "write a program the sum of all even numbers upto 50 ?"
   ]
  },
  {
   "cell_type": "code",
   "execution_count": 14,
   "metadata": {},
   "outputs": [
    {
     "name": "stdout",
     "output_type": "stream",
     "text": [
      "the sum of all even numbers upto 50 is =  650\n"
     ]
    }
   ],
   "source": [
    "sum =0\n",
    "for i in range(1,51):\n",
    "    if i %2 ==0:\n",
    "     sum+= i\n",
    "print(\"the sum of all even numbers upto 50 is = \",sum)\n",
    "        \n",
    "    "
   ]
  },
  {
   "cell_type": "markdown",
   "metadata": {},
   "source": [
    "write a program to write first 20 numbers and their squared numbers?\n"
   ]
  },
  {
   "cell_type": "code",
   "execution_count": 21,
   "metadata": {},
   "outputs": [
    {
     "name": "stdout",
     "output_type": "stream",
     "text": [
      "1 x 1 = 1\n",
      "2 x 2 = 4\n",
      "3 x 3 = 9\n",
      "4 x 4 = 16\n",
      "5 x 5 = 25\n",
      "6 x 6 = 36\n",
      "7 x 7 = 49\n",
      "8 x 8 = 64\n",
      "9 x 9 = 81\n",
      "10 x 10 = 100\n",
      "11 x 11 = 121\n",
      "12 x 12 = 144\n",
      "13 x 13 = 169\n",
      "14 x 14 = 196\n",
      "15 x 15 = 225\n",
      "16 x 16 = 256\n",
      "17 x 17 = 289\n",
      "18 x 18 = 324\n",
      "19 x 19 = 361\n",
      "20 x 20 = 400\n"
     ]
    }
   ],
   "source": [
    "for i in range(1,21):\n",
    "    #if i==0:\n",
    "      print(i,\"x\",i,\"=\",i**2)"
   ]
  },
  {
   "cell_type": "markdown",
   "metadata": {},
   "source": [
    "write a program to find sum of first 10 odd numbers using while loop?"
   ]
  },
  {
   "cell_type": "code",
   "execution_count": 32,
   "metadata": {},
   "outputs": [
    {
     "name": "stdout",
     "output_type": "stream",
     "text": [
      "sum of first 10 odd numbers = 19\n"
     ]
    }
   ],
   "source": [
    "sum =0\n",
    "n = 0\n",
    "while n <=20:\n",
    "    if n%2 !=0:\n",
    "      sum=+n\n",
    "    n+=1\n",
    "print(\"sum of first 10 odd numbers =\",sum)"
   ]
  },
  {
   "cell_type": "markdown",
   "metadata": {},
   "source": [
    "write a program to check if a number is divisble by 8 and 12 up to 100 numbers?"
   ]
  },
  {
   "cell_type": "code",
   "execution_count": 33,
   "metadata": {},
   "outputs": [
    {
     "name": "stdout",
     "output_type": "stream",
     "text": [
      "24\n",
      "48\n",
      "72\n",
      "96\n"
     ]
    }
   ],
   "source": [
    "for i in range (1,101):\n",
    "    if i % 8 ==0 and i %12 ==0:\n",
    "        print(i)"
   ]
  },
  {
   "cell_type": "markdown",
   "metadata": {},
   "source": [
    "write a program to create a billing system at supermarket ?"
   ]
  },
  {
   "cell_type": "code",
   "execution_count": 39,
   "metadata": {},
   "outputs": [
    {
     "name": "stdout",
     "output_type": "stream",
     "text": [
      "----------------------------------------\n",
      "Name: akhil verma\n",
      "product name: rice\n",
      "Amount to be paid= 271.0 Rs\n",
      "----------------------------------------\n",
      "*******HAPPY SHOPPING*******\n",
      "----------------------------------------\n",
      "Name: nikhil verma\n",
      "product name: bat\n",
      "Amount to be paid= 68.0 Rs\n",
      "----------------------------------------\n",
      "*******HAPPY SHOPPING*******\n"
     ]
    }
   ],
   "source": [
    "while True:\n",
    "    name = input(\"enter customer's name:\")\n",
    "    total =0\n",
    "\n",
    "    while True:\n",
    "       \n",
    "        product = input(\"enter product name:\")\n",
    "        amount = float(input(\"enter the product amount:\"))\n",
    "        quantity = float(input(\"enter quantity:\"))\n",
    "        total += amount * quantity\n",
    "        repeat = input(\"do you want to add more items? (yes/no):\")\n",
    "        if repeat == \"no\" or repeat ==\"No\":\n",
    "            break\n",
    "    print(\"-\"*40)\n",
    "    print(\"Name:\",name)\n",
    "    print(\"product name:\",product)\n",
    "    print(\"Amount to be paid=\",total ,\"Rs\")\n",
    "    print(\"-\"*40)\n",
    "    print(\"*******HAPPY SHOPPING*******\")\n",
    "    repeat1 =input(\"do you want to go to next customer? (yes/no):\")\n",
    "    if repeat1==\"no\" or repeat1==\"NO\":\n",
    "        break\n",
    "\n",
    "    "
   ]
  },
  {
   "cell_type": "code",
   "execution_count": 40,
   "metadata": {},
   "outputs": [
    {
     "name": "stdout",
     "output_type": "stream",
     "text": [
      "    name  age  salary\n",
      "0   john   34      45\n",
      "1  peter   43      67\n",
      "2   lisa   56      54\n"
     ]
    }
   ],
   "source": [
    "import pandas as pd \n",
    "data ={\"name\":[\"john\",\"peter\",\"lisa\"],\n",
    "       \"age\":[34,43,56],\n",
    "       \"salary\":[45,67,54]}\n",
    "df = pd.DataFrame(data)\n",
    "print(df)"
   ]
  }
 ],
 "metadata": {
  "kernelspec": {
   "display_name": "base",
   "language": "python",
   "name": "python3"
  },
  "language_info": {
   "codemirror_mode": {
    "name": "ipython",
    "version": 3
   },
   "file_extension": ".py",
   "mimetype": "text/x-python",
   "name": "python",
   "nbconvert_exporter": "python",
   "pygments_lexer": "ipython3",
   "version": "3.10.10"
  }
 },
 "nbformat": 4,
 "nbformat_minor": 2
}
